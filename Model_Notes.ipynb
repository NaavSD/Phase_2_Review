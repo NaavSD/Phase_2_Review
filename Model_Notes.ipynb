{
 "cells": [
  {
   "cell_type": "markdown",
   "id": "3b239509",
   "metadata": {},
   "source": [
    "# Models"
   ]
  },
  {
   "cell_type": "markdown",
   "id": "3bf214c1",
   "metadata": {},
   "source": [
    "## Linear Regression"
   ]
  },
  {
   "cell_type": "markdown",
   "id": "ec51a8db",
   "metadata": {},
   "source": [
    "For two variables $X$ and $Y$, each with $n$ values:\n",
    "\n",
    "$\\Large\\sigma_{XY} = \\frac{\\Sigma^n_{i = 1}(x_i - \\mu_x)(y_i - \\mu_y)}{n}$ <br/>"
   ]
  },
  {
   "cell_type": "markdown",
   "id": "1b2bb429",
   "metadata": {},
   "source": [
    "`np.cov(X, Y, ddof=0)`"
   ]
  },
  {
   "cell_type": "markdown",
   "id": "0a07906a",
   "metadata": {},
   "source": [
    "Pearson Correlation:<br/>$\\Large r_P = \\frac{\\Sigma^n_{i = 1}(x_i - \\mu_x)(y_i - \\mu_y)}{\\sqrt{\\Sigma^n_{i = 1}(x_i - \\mu_x)^2\\Sigma^n_{i = 1}(y_i -\\mu_y)^2}}$\n",
    "\n",
    "Note that we are simply standardizing the covariance by the standard deviations of X and Y (the $n$'s cancel!)."
   ]
  },
  {
   "cell_type": "markdown",
   "id": "33196327",
   "metadata": {},
   "source": [
    "`np.corrcoef(X, Y)`"
   ]
  },
  {
   "cell_type": "markdown",
   "id": "d833f4ec",
   "metadata": {},
   "source": [
    "**Where X and Y are lists of X and Y values.**"
   ]
  },
  {
   "cell_type": "markdown",
   "id": "e2a2b608",
   "metadata": {},
   "source": [
    "Similarly, you can use SciPy:<br>\n",
    "`stats.pearsonr(X, Y)`"
   ]
  },
  {
   "cell_type": "markdown",
   "id": "9c6763ab",
   "metadata": {},
   "source": [
    "### Regression equations"
   ]
  },
  {
   "cell_type": "markdown",
   "id": "f48cf703",
   "metadata": {},
   "source": [
    "The solution for a simple regression best-fit line is as follows:\n",
    "\n",
    "- slope: <br/>$\\Large m = r_P\\frac{\\sigma_y}{\\sigma_x} = \\frac{cov(X, Y)}{var(X)}$\n",
    "\n",
    "- y-intercept:<br/> $\\Large b = \\mu_y - m\\mu_x$"
   ]
  },
  {
   "cell_type": "markdown",
   "id": "ebb49120",
   "metadata": {},
   "source": [
    "### Using Stats Model"
   ]
  },
  {
   "cell_type": "markdown",
   "id": "a42fec16",
   "metadata": {},
   "source": [
    "`sm.formula.ols(formula=\"y ~ x\", data=test_df).fit().summary()` <br>\n",
    "Where your x:y data is in a dataframe.<br><br>\n",
    "or with seperate x and y, you can use:<br>\n",
    "`sm.OLS(y,x)` where y is a dataframe with y values and x is a dataframe with x values.\n",
    "\n",
    "Use `sm.add_constant(df[x])` to add a constant column into a new dataframe for x when using `sm.OLS`"
   ]
  },
  {
   "cell_type": "markdown",
   "id": "f2d14db9",
   "metadata": {},
   "source": [
    "### $R^2$"
   ]
  },
  {
   "cell_type": "markdown",
   "id": "266a1c3c",
   "metadata": {},
   "source": [
    "$R^2$, the *coefficient of determination*, is a measure of how well the model fits the data.<br>\n",
    "How well variation in x explains variation in y.\n",
    "\n",
    "Interpreted as a percentage of change in y.\n",
    "\n",
    "\"$R^2$ change in Y is explained by change in X\""
   ]
  },
  {
   "cell_type": "markdown",
   "id": "e6d2a4f3",
   "metadata": {},
   "source": [
    "The actual calculation of $R^2$ is: <br/> $\\Large R^2\\equiv 1-\\frac{\\Sigma_i(y_i - \\hat{y}_i)^2}{\\Sigma_i(y_i - \\bar{y})^2}$."
   ]
  },
  {
   "cell_type": "markdown",
   "id": "de813c16",
   "metadata": {},
   "source": [
    "Adjusted $R^2$ adds a penalty for the complexity of the model. <br>\n",
    "Adding more predictors increases the penalty dependent on the significance of the added predictors."
   ]
  },
  {
   "cell_type": "markdown",
   "id": "e04c4941",
   "metadata": {},
   "source": [
    "### Assumptions"
   ]
  },
  {
   "cell_type": "markdown",
   "id": "3f36a8de",
   "metadata": {},
   "source": [
    "#### Linearity"
   ]
  },
  {
   "cell_type": "markdown",
   "id": "30c7b0ea",
   "metadata": {},
   "source": [
    "**The relationship between the target and predictor is linear.** Check this by drawing a scatter plot of your predictor and your target, and see if there is evidence that the relationship might not follow a straight line."
   ]
  },
  {
   "cell_type": "markdown",
   "id": "138e7d74",
   "metadata": {},
   "source": [
    "#### Independence"
   ]
  },
  {
   "cell_type": "markdown",
   "id": "0dce34a3",
   "metadata": {},
   "source": [
    "**The errors are independent**. In other words: Knowing the error for one point doesn't tell you anything about the error for another."
   ]
  },
  {
   "cell_type": "markdown",
   "id": "b5b33273",
   "metadata": {},
   "source": [
    "#### Normality"
   ]
  },
  {
   "cell_type": "markdown",
   "id": "947f648d",
   "metadata": {},
   "source": [
    "**The errors are normally distributed.** That is, smaller errors are more probable than larger errors, according to the familiar bell curve."
   ]
  },
  {
   "cell_type": "markdown",
   "id": "97b19175",
   "metadata": {},
   "source": [
    "#### Homoskedasticity"
   ]
  },
  {
   "cell_type": "markdown",
   "id": "90f02464",
   "metadata": {},
   "source": [
    "**The errors are homoskedastic.** That is, the errors have the same variance. "
   ]
  },
  {
   "cell_type": "code",
   "execution_count": 2,
   "id": "bbc6028d",
   "metadata": {},
   "outputs": [
    {
     "data": {
      "text/plain": [
       "0.5416666666666666"
      ]
     },
     "execution_count": 2,
     "metadata": {},
     "output_type": "execute_result"
    }
   ],
   "source": []
  },
  {
   "cell_type": "code",
   "execution_count": null,
   "id": "5ab6d6e9",
   "metadata": {},
   "outputs": [],
   "source": []
  }
 ],
 "metadata": {
  "kernelspec": {
   "display_name": "Python (learn-env)",
   "language": "python",
   "name": "learn-env"
  },
  "language_info": {
   "codemirror_mode": {
    "name": "ipython",
    "version": 3
   },
   "file_extension": ".py",
   "mimetype": "text/x-python",
   "name": "python",
   "nbconvert_exporter": "python",
   "pygments_lexer": "ipython3",
   "version": "3.9.7"
  }
 },
 "nbformat": 4,
 "nbformat_minor": 5
}
