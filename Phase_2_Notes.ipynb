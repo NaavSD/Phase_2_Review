{
 "cells": [
  {
   "cell_type": "markdown",
   "id": "adf50c4b",
   "metadata": {},
   "source": [
    "# Notes"
   ]
  },
  {
   "cell_type": "markdown",
   "id": "1033a5d9",
   "metadata": {},
   "source": [
    "### Tests"
   ]
  },
  {
   "cell_type": "markdown",
   "id": "938d8ea3",
   "metadata": {},
   "source": [
    "### Parametric Tests\n",
    "**Z-Test**<br>\n",
    "$\\bar{x}$, $\\mu$, $\\sigma$ or n > 30\n",
    "\n",
    "**T-Tests and Tails**<br>\n",
    "* One-sample one-tail: $H_{a}: \\mu < 3$\n",
    "* One-sample two-tail: $H_{a}: \\mu \\neq 3$\n",
    "* Two-sample one-tail: $H_{a}: \\mu_{1} < \\mu_{2}$\n",
    "* Two-sample two-tail: $H_{a}: \\mu_{1} \\neq \\mu_{2}$\n",
    "\n",
    "**One Sample T-Test**<br>\n",
    "$\\bar{x}$, $\\mu$, $\\bar{s}$ and n < 30\n",
    "\n",
    "**Two Sample T-Test**<br>\n",
    "$\\bar{x}_1$, $\\bar{x}_2$, $n_1$, $n_2$\n",
    "\n",
    "**ANOVA**<br>\n",
    "3 or more samples.<br>\n",
    "ANOVAs are an omnibus test. We can only determine that a difference exists<br>\n",
    "in the set of samples, but not between which samples.\n",
    "\n",
    "---\n",
    "\n",
    "### Non-parametric Tests\n",
    "**$\\chi^{2}$ Test**<br>\n",
    "Use when one categorical (discrete) variable is in question.<br>\n",
    "$p_1$, $p_2$"
   ]
  },
  {
   "cell_type": "markdown",
   "id": "155f3f5d",
   "metadata": {},
   "source": [
    "## Z-Test"
   ]
  },
  {
   "cell_type": "markdown",
   "id": "d46b50da",
   "metadata": {},
   "source": [
    "$$\\large \\text{z-statistic} = \\dfrac{\\bar x - \\mu_0}{{\\sigma}/{\\sqrt{n}}} $$"
   ]
  },
  {
   "cell_type": "markdown",
   "id": "17199cf8",
   "metadata": {},
   "source": [
    "To calculate your P-Value with the z statisitic:<br>\n",
    "`pvalue = 1 - stats.norm.cdf(z)`"
   ]
  },
  {
   "cell_type": "markdown",
   "id": "67d6f1f0",
   "metadata": {},
   "source": [
    "## t-Tests"
   ]
  },
  {
   "cell_type": "markdown",
   "id": "2319dabd",
   "metadata": {},
   "source": [
    "### One Sample"
   ]
  },
  {
   "cell_type": "markdown",
   "id": "3cc3b9ca",
   "metadata": {},
   "source": [
    "$$\\large t = \\frac{\\bar{x}-\\mu}{\\frac{s}{\\sqrt{n}}}$$"
   ]
  },
  {
   "cell_type": "markdown",
   "id": "81df52f9",
   "metadata": {},
   "source": [
    "To find your p-value using your t-test statistic use:<br>\n",
    "`pvalue = stats.t.sf(t, df = degrees_of_freedom)`<br>\n",
    "        or<br>\n",
    "`pvalue = stats.t.cdf(t, df = degrees_of_freedom)`"
   ]
  },
  {
   "cell_type": "markdown",
   "id": "08503ce9",
   "metadata": {},
   "source": [
    "You can also look for your t-critical to compare to your t-stat:<br>\n",
    "    `t_crit = stats.t.ppf(1 - alpha, df = degrees_of_freedom)`"
   ]
  },
  {
   "cell_type": "markdown",
   "id": "241637d0",
   "metadata": {},
   "source": [
    "### Two Samples"
   ]
  },
  {
   "cell_type": "markdown",
   "id": "f9ea951f",
   "metadata": {},
   "source": [
    "$$\\large t = \\frac{\\bar{x}_1-\\bar{x}_2}{\\sqrt{{\\frac{s_1^2}{n_1}}+{\\frac{s_2^2}{n_2}}}}$$"
   ]
  },
  {
   "cell_type": "markdown",
   "id": "c7d7bd80",
   "metadata": {},
   "source": [
    "Where:\n",
    "* $\\bar{x_i}$ - mean of sample i\n",
    "* ${s_i}^2$ - variance of sample i\n",
    "* $n_i$ - sample size of sample i"
   ]
  },
  {
   "cell_type": "markdown",
   "id": "0b02ec9d",
   "metadata": {},
   "source": [
    "If given these statistics, you can use:<br>\n",
    "`t_stat = stats.ttest_ind_from_stats(x1, s1, n1, x2, s2, n2)`\n",
    "\n",
    "If given two lists or arrays, you can use:<br>\n",
    "`t_stat = stats.ttest_ind(array1, array2)`"
   ]
  },
  {
   "cell_type": "markdown",
   "id": "a8ddefca",
   "metadata": {},
   "source": [
    "## ANOVA"
   ]
  },
  {
   "cell_type": "markdown",
   "id": "0b241f4d",
   "metadata": {},
   "source": [
    "## $\\chi^{2}$-Test"
   ]
  },
  {
   "cell_type": "markdown",
   "id": "115ac979",
   "metadata": {},
   "source": [
    "This gives us the $\\chi^2$ statistic:\n",
    "\n",
    "\n",
    "$$\\large \\chi^2 = \\sum \\frac{( Expected_i - Observed_i)^2}{Expected_i}$$"
   ]
  },
  {
   "cell_type": "markdown",
   "id": "ed753921",
   "metadata": {},
   "source": [
    "To calculate your P-Value with the $\\chi^2$ statistic:<br>\n",
    "`pvalue = 1 - stats.chi2.cdf(chisq_stat, df=degrees_of_freedom)\n",
    "`"
   ]
  },
  {
   "cell_type": "markdown",
   "id": "a8b0849f",
   "metadata": {},
   "source": [
    "If you have your data in a set of lists, you can also calculate your P-Value with this:<br>\n",
    "`results = stats.chisquare(f_obs=observations, f_exp=expectations)`\n",
    "\n",
    "Where results returns your ($\\chi^2$ statistic , P-Value) as a tuple."
   ]
  },
  {
   "cell_type": "markdown",
   "id": "a71b01ed",
   "metadata": {},
   "source": [
    "#### $\\chi^{2}$ Test of independence"
   ]
  },
  {
   "cell_type": "markdown",
   "id": "0dbb962c",
   "metadata": {},
   "source": [
    "$df = (n_{rows} - 1)\\cdot(n_{cols} -1)$\n",
    "\n",
    "Given an array of two lists. You can use this function to determine your statistics:<br>\n",
    "`results = stats.contingency.chi2_contingency(array); chi, p, dof, exp = results`\n",
    "\n",
    "Where results returns your $\\chi^{2}$, P-Value, df, and the input array.<br>\n",
    "**Input arrays must be vertically stacked** <br>\n",
    "Use `np.vstack((list_1, list_2, list_3,..., list_n))`"
   ]
  },
  {
   "cell_type": "code",
   "execution_count": null,
   "id": "ac09d01a",
   "metadata": {},
   "outputs": [],
   "source": []
  }
 ],
 "metadata": {
  "kernelspec": {
   "display_name": "Python (learn-env)",
   "language": "python",
   "name": "learn-env"
  },
  "language_info": {
   "codemirror_mode": {
    "name": "ipython",
    "version": 3
   },
   "file_extension": ".py",
   "mimetype": "text/x-python",
   "name": "python",
   "nbconvert_exporter": "python",
   "pygments_lexer": "ipython3",
   "version": "3.9.7"
  }
 },
 "nbformat": 4,
 "nbformat_minor": 5
}
