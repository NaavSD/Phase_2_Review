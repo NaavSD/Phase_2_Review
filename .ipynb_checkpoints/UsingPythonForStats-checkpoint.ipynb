{
 "cells": [
  {
   "cell_type": "markdown",
   "metadata": {
    "id": "JyAbbyJwJQ7b"
   },
   "source": [
    "# Using Python for Statistics"
   ]
  },
  {
   "cell_type": "code",
   "execution_count": 1,
   "metadata": {
    "id": "qIGK8VsBRnVB"
   },
   "outputs": [],
   "source": [
    "# Basic imports\n",
    "import matplotlib.pyplot as plt\n",
    "import numpy as np"
   ]
  },
  {
   "cell_type": "markdown",
   "metadata": {
    "id": "KCkCIBz-JWQd"
   },
   "source": [
    "## Combinations and Permutations - Itertools"
   ]
  },
  {
   "cell_type": "code",
   "execution_count": 2,
   "metadata": {
    "id": "aNHzWDhDJaxk"
   },
   "outputs": [],
   "source": [
    "# Use the itertools library\n",
    "import itertools"
   ]
  },
  {
   "cell_type": "markdown",
   "metadata": {
    "id": "pYnxa6Jrfa8C"
   },
   "source": [
    "### Combination: Order Doesn't Matter"
   ]
  },
  {
   "cell_type": "code",
   "execution_count": null,
   "metadata": {
    "colab": {
     "base_uri": "https://localhost:8080/"
    },
    "id": "uHgFEPy3JT-6",
    "outputId": "e8bc2ead-5b7d-4d56-a000-102db1cd0db8"
   },
   "outputs": [
    {
     "name": "stdout",
     "output_type": "stream",
     "text": [
      "<itertools.combinations object at 0x7f1d3d2aaa70>\n",
      "Number of topping options: 8\n",
      "Number of topping combinations: 56\n"
     ]
    }
   ],
   "source": [
    "# Here's an example list - pizza toppings!\n",
    "toppings = [\"Mushrooms\",\"Pepperoni\",\"Onion\",\"Peppers\",\"Ham\",\"Pineapple\",\"Sausage\",\"Olives\"]\n",
    "\n",
    "# Use itertools.combinations - arguments are your iterable and number of items\n",
    "# Need to wrap it in a list to have it render\n",
    "print(itertools.combinations(toppings, 3))\n",
    "three_topping_pizzas = list(itertools.combinations(toppings, 3))\n",
    "print(f\"Number of topping options: {len(toppings)}\")\n",
    "print(f\"Number of topping combinations: {len(three_topping_pizzas)}\")"
   ]
  },
  {
   "cell_type": "markdown",
   "metadata": {
    "id": "cNdFbazMfhaQ"
   },
   "source": [
    "### Permutation: Order DOES Matter"
   ]
  },
  {
   "cell_type": "code",
   "execution_count": null,
   "metadata": {
    "colab": {
     "base_uri": "https://localhost:8080/"
    },
    "id": "UQ_eJHUdJMOb",
    "outputId": "004778aa-5d19-4a10-eb31-42c940024f48"
   },
   "outputs": [
    {
     "name": "stdout",
     "output_type": "stream",
     "text": [
      "<itertools.permutations object at 0x7f1d3d2cf350>\n",
      "Number of number options per dial: 10\n",
      "Number of padlock combination options: 720\n"
     ]
    }
   ],
   "source": [
    "# Here's another example list - numbers 0-9\n",
    "nums = list(range(10))\n",
    "\n",
    "# Imagine a padlock with 3 dials, each dial has numbers 0-9\n",
    "print(itertools.permutations(nums, 3))\n",
    "# Don't get confused - these are called combination locks, but they're permutations!\n",
    "combos = list(itertools.permutations(nums, 3))\n",
    "print(f\"Number of number options per dial: {len(nums)}\")\n",
    "print(f\"Number of padlock combination options: {len(combos)}\")"
   ]
  },
  {
   "cell_type": "markdown",
   "metadata": {
    "id": "Mtkdsa3cML3Z"
   },
   "source": [
    "## Standard Normal Distribution"
   ]
  },
  {
   "cell_type": "markdown",
   "metadata": {
    "id": "bm99FCj_b9G6"
   },
   "source": [
    "![](https://camo.githubusercontent.com/d457367f684c38ac6231b4847e35f2f76c8a9819/68747470733a2f2f6769746875622e636f6d2f6c6561726e2d636f2d73747564656e74732f6473632d302d30392d31322d676175737369616e2d646973747269627574696f6e732d6f6e6c696e652d64732d66742d3033313131392f626c6f622f6d61737465722f6e6f726d616c73642e6a70673f7261773d74727565)\n",
    "\n",
    "Specifically, let's look at how to visualize this in `matplotlib`:"
   ]
  },
  {
   "cell_type": "code",
   "execution_count": null,
   "metadata": {
    "id": "wqGE0wahRwOG"
   },
   "outputs": [],
   "source": [
    "# Using the scipy stats library\n",
    "from scipy import stats"
   ]
  },
  {
   "cell_type": "code",
   "execution_count": null,
   "metadata": {
    "colab": {
     "base_uri": "https://localhost:8080/",
     "height": 388
    },
    "id": "imhbx201LC4D",
    "outputId": "500b1e48-5642-49d3-9c96-48f38bf56fc0"
   },
   "outputs": [
    {
     "data": {
      "image/png": "[encoded data removed]",
      "text/plain": [
       "<Figure size 576x432 with 1 Axes>"
      ]
     },
     "metadata": {
      "needs_background": "light"
     },
     "output_type": "display_data"
    }
   ],
   "source": [
    "# Plotting the normal distribution - pdf and cdf\n",
    "plt.figure(figsize=(8,6))\n",
    "\n",
    "# Getting our normal distribution PDF,\n",
    "# as shown in an example in the scipy.stats.norm documentation\n",
    "# Goes from the points at .1% to 99.9% \n",
    "x = np.linspace(stats.norm.ppf(0.001),\n",
    "                stats.norm.ppf(0.999), 100)\n",
    "\n",
    "# This plots the cumulative density curve, aka cumulative likelihood\n",
    "plt.plot(x, stats.norm.cdf(x), label=\"Cumulative Density\")\n",
    "# This plots the probability density curve, aka our bell curve\n",
    "plt.plot(x, stats.norm.pdf(x), label=\"Normal Probability Density\")\n",
    "\n",
    "plt.ylabel('Probability')\n",
    "plt.xlabel('Number of Standard Deviations from the Mean')\n",
    "plt.legend()\n",
    "plt.show()"
   ]
  },
  {
   "cell_type": "markdown",
   "metadata": {
    "id": "t8Yeg78cSPk0"
   },
   "source": [
    "## Confidence Intervals\n",
    "\n",
    "Based on the underlying assumption about the distribution:\n",
    "- Standard normal distribution - use a critical z-value\n",
    "- Student's T distribution - use a critical t-value\n",
    "\n",
    "![source: https://courses.lumenlearning.com/wmopen-concepts-statistics/chapter/estimating-a-population-mean-3-of-3/](https://s3-us-west-2.amazonaws.com/courses-images/wp-content/uploads/sites/1729/2017/04/15032548/m10_inference_mean_topic_10_2_m10_est_pop_means_3_image1.png)"
   ]
  },
  {
   "cell_type": "code",
   "execution_count": null,
   "metadata": {
    "id": "Jo7xBW099O8P"
   },
   "outputs": [],
   "source": [
    "# Example data from the iris dataset\n",
    "from sklearn.datasets import load_iris\n",
    "import pandas as pd\n",
    "\n",
    "data = load_iris()\n",
    "df = pd.DataFrame(data.data, columns=data.feature_names)\n",
    "df['target'] = data.target\n",
    "example_data = df[\"sepal width (cm)\"] # note that our example is a pandas series"
   ]
  },
  {
   "cell_type": "code",
   "execution_count": null,
   "metadata": {
    "colab": {
     "base_uri": "https://localhost:8080/"
    },
    "id": "N0HaiQD9WFFl",
    "outputId": "d0f97ab3-dc71-4f47-8daf-befd7d185b15"
   },
   "outputs": [
    {
     "name": "stdout",
     "output_type": "stream",
     "text": [
      "2.987581482110594 3.127085184556074\n"
     ]
    }
   ],
   "source": [
    "# First, calculate the confidence interval more manually\n",
    "n=len(example_data)\n",
    "samp_mean = example_data.mean()\n",
    "samp_std = example_data.std()\n",
    "    \n",
    "samp_sterr = samp_std / (n ** 0.5)\n",
    "margin_error = stats.norm.ppf(0.975) * samp_sterr # Using norm because n=150\n",
    "int_min = samp_mean - margin_error\n",
    "int_max = samp_mean + margin_error\n",
    "print(int_min, int_max)"
   ]
  },
  {
   "cell_type": "code",
   "execution_count": null,
   "metadata": {
    "colab": {
     "base_uri": "https://localhost:8080/"
    },
    "id": "b_zEw4I-8oi8",
    "outputId": "f20e53fc-978e-486c-8e3d-14eb4885d00d"
   },
   "outputs": [
    {
     "data": {
      "text/plain": [
       "(2.987581482110594, 3.127085184556074)"
      ]
     },
     "execution_count": 9,
     "metadata": {},
     "output_type": "execute_result"
    }
   ],
   "source": [
    "# Now calculate the confidence interval using the stats library!\n",
    "# If using the standard normal distribution\n",
    "stats.norm.interval(alpha=.95, #confidence level\n",
    "                    loc=example_data.mean(), #sample mean\n",
    "                    scale=stats.sem(example_data)) #standard error of the mean"
   ]
  },
  {
   "cell_type": "code",
   "execution_count": null,
   "metadata": {
    "colab": {
     "base_uri": "https://localhost:8080/"
    },
    "id": "R8GxQoSH9W2C",
    "outputId": "b8755241-4c22-4e70-a0f3-11aff002a1cf"
   },
   "outputs": [
    {
     "data": {
      "text/plain": [
       "(2.8824687966587237, 3.2295312033412764)"
      ]
     },
     "execution_count": 10,
     "metadata": {},
     "output_type": "execute_result"
    }
   ],
   "source": [
    "# If using a Student's T Distribution:\n",
    "example_sample = example_data.sample(n=25) # sampling down to 25\n",
    "\n",
    "stats.t.interval(alpha=.95, #confidence level\n",
    "                 df=(len(example_sample)-1), #degrees of freedom: sample size - 1\n",
    "                 loc=example_sample.mean(), #sample mean\n",
    "                 scale=stats.sem(example_sample)) #standard error of the mean"
   ]
  },
  {
   "cell_type": "markdown",
   "metadata": {
    "id": "TahznKcfAAPa"
   },
   "source": [
    "## Hypothesis Tests\n",
    "\n",
    "Preparatory Steps:\n",
    " \n",
    "1. Determine the alternate hypothesis\n",
    "2. Determine the null hypothesis\n",
    "3. Determine the type of test based on the parameters/statistics you have (z-test, t-test, etc.)\n",
    "4. Determine the type of test based on the alternate hypothesis (one-tailed right, one-tailed left, or two-tailed)\n",
    "5. Set a significance threshold"
   ]
  },
  {
   "cell_type": "markdown",
   "metadata": {
    "id": "Y6carPSIapqp"
   },
   "source": [
    "## Types of Hypothesis Tests"
   ]
  },
  {
   "cell_type": "markdown",
   "metadata": {
    "id": "I4rAXtmdAF2T"
   },
   "source": [
    "### One-Sample Z-Test\n",
    "\n",
    "For large enough sample sizes (at least $n$ =30), with known population standard deviation, the test statistic of the sample mean $\\bar x$ is given by the z-statistic,\n",
    "\n",
    "$$Z = \\frac{\\bar{x} - \\mu}{\\sigma/\\sqrt{n}}$$\n",
    "\n",
    "Where $\\bar{x}$ is the sample mean, $\\mu$ is the population mean, $\\sigma$ is the known population standard deviation, and $n$ is the number of samples.\n",
    "\n",
    "This hypothesis test tries to answer the question: how likely are we to observe a z-statistic as extreme as our sample's, given the null hypothesis that the sample and the population have the same mean?"
   ]
  },
  {
   "cell_type": "code",
   "execution_count": null,
   "metadata": {
    "colab": {
     "base_uri": "https://localhost:8080/"
    },
    "id": "TvLuuDIXCe4X",
    "outputId": "d9be1f88-677d-4c57-9b42-fb60fb74beed"
   },
   "outputs": [
    {
     "name": "stdout",
     "output_type": "stream",
     "text": [
      "1.5604156879952313\n"
     ]
    }
   ],
   "source": [
    "# Let's use the example_data from before \n",
    "n = len(example_data) # sample size - which is 150\n",
    "sigma = .45 # known population standard deviation (would be given)\n",
    "x_bar = example_data.mean() # sample mean\n",
    "mu = 3 # known population mean (would be given)\n",
    "\n",
    "se = sigma/np.sqrt(n) # our denominator is standard error\n",
    "z = (x_bar - mu)/se \n",
    "print(z)"
   ]
  },
  {
   "cell_type": "markdown",
   "metadata": {
    "id": "ZeIl0gYQAjKs"
   },
   "source": [
    "### One-Sample T-Test\n",
    "\n",
    "For small sample sizes or samples with unknown population standard deviation, the test statistic of the sample mean is given by the t-statistic,\n",
    "\n",
    "$$ t = \\frac{\\bar{x} - \\mu}{s/\\sqrt{n}} $$\n",
    "\n",
    "Where $\\bar{x}$ is the sample mean, $\\mu$ is the population mean, $s$ is the sample standard deviation (which is used to estimate the population standard deviation), and $n$ is the number of samples.\n",
    "\n",
    "This hypothesis test tries to answer the question: how likely are we to observe a t-statistic as extreme as our sample's, given the null hypothesis that the sample and population have the same mean?"
   ]
  },
  {
   "cell_type": "code",
   "execution_count": null,
   "metadata": {
    "colab": {
     "base_uri": "https://localhost:8080/"
    },
    "id": "91aBCUGpK8_M",
    "outputId": "362cfae6-7d59-4aef-be50-f2f97e4b9b0d"
   },
   "outputs": [
    {
     "name": "stdout",
     "output_type": "stream",
     "text": [
      "2.6503566257963245\n"
     ]
    }
   ],
   "source": [
    "# Let's use a small sample from our example data\n",
    "example_sample = example_data.sample(25)\n",
    "\n",
    "# First let's do this more manually\n",
    "n = len(example_sample) # sample size\n",
    "s = example_sample.std() # sample standard deviation\n",
    "x_bar = example_sample.mean() # sample mean\n",
    "mu = 3 # population mean (would be given)\n",
    "\n",
    "se = s/np.sqrt(n)\n",
    "t = (x_bar - mu)/se\n",
    "print(t)"
   ]
  },
  {
   "cell_type": "code",
   "execution_count": null,
   "metadata": {
    "colab": {
     "base_uri": "https://localhost:8080/"
    },
    "id": "Fw9EJZc7Xt5D",
    "outputId": "ea55a528-75fa-4284-d812-b8b7ae7ecf84"
   },
   "outputs": [
    {
     "data": {
      "text/plain": [
       "Ttest_1sampResult(statistic=2.6503566257963196, pvalue=0.014008902203002167)"
      ]
     },
     "execution_count": 13,
     "metadata": {},
     "output_type": "execute_result"
    }
   ],
   "source": [
    "# Run in stats library if sample is an array-like variable, and mu is numeric:\n",
    "stats.ttest_1samp(example_sample, mu)"
   ]
  },
  {
   "cell_type": "markdown",
   "metadata": {
    "id": "3ozNNMXUBJwn"
   },
   "source": [
    "### Two-Sample T-Tests\n",
    "\n",
    "Sometimes, we are interested in determining whether two population means are equal. In this case, we use two-sample t-tests.\n",
    "\n",
    "This hypothesis test tries to answer the question: how likely are we to observe a t-statistic as extreme as our samples', given the null hypothesis that the two samples have the same mean?\n",
    "\n",
    "There are two types of two-sample t-tests: **paired** and **independent** (unpaired) tests."
   ]
  },
  {
   "cell_type": "markdown",
   "metadata": {
    "id": "SDkeSVtfOmTi"
   },
   "source": [
    "**Paired tests:** How is a sample affected by a certain treatment? The individuals in the sample remain the same and you compare how they change after treatment."
   ]
  },
  {
   "cell_type": "code",
   "execution_count": null,
   "metadata": {
    "id": "82S9n4dNOp4Y"
   },
   "outputs": [],
   "source": [
    "# For this example, let's generate some data:\n",
    "rng = np.random.default_rng() # Creating a random number generator\n",
    "paired_1 = stats.norm.rvs(loc=5, scale=10, size=500, random_state=rng)\n",
    "paired_2 = (stats.norm.rvs(loc=5, scale=10, size=500, random_state=rng)\n",
    "            + stats.norm.rvs(scale=0.2, size=500, random_state=rng))"
   ]
  },
  {
   "cell_type": "code",
   "execution_count": null,
   "metadata": {
    "colab": {
     "base_uri": "https://localhost:8080/"
    },
    "id": "6VfrzMfTVwit",
    "outputId": "f05e6f80-f54f-4d62-8578-9f0e8da4a4fd"
   },
   "outputs": [
    {
     "data": {
      "text/plain": [
       "Ttest_relResult(statistic=2.116310482141235, pvalue=0.03481291536305325)"
      ]
     },
     "execution_count": 15,
     "metadata": {},
     "output_type": "execute_result"
    }
   ],
   "source": [
    "# Run in stats library if paired samples are array-like variables:\n",
    "stats.ttest_rel(paired_1, paired_2)"
   ]
  },
  {
   "cell_type": "markdown",
   "metadata": {
    "id": "QvzuyPk7OoT_"
   },
   "source": [
    "**Independent tests:** When we compare two different, unrelated samples to each other, we use an independent (or unpaired) two-sample t-test."
   ]
  },
  {
   "cell_type": "code",
   "execution_count": null,
   "metadata": {
    "id": "p-aoQ3_vMJje"
   },
   "outputs": [],
   "source": [
    "# Grabbing two example samples from the iris dataset\n",
    "ind_1 = df[df['target']==0]['petal length (cm)']\n",
    "ind_2 = df[df['target']==1]['petal length (cm)']\n",
    "# Note that these are both pandas series objects"
   ]
  },
  {
   "cell_type": "code",
   "execution_count": null,
   "metadata": {
    "colab": {
     "base_uri": "https://localhost:8080/"
    },
    "id": "DfjCwYEl-z9B",
    "outputId": "a18be96a-a960-4668-e018-4b31157a0d37"
   },
   "outputs": [
    {
     "data": {
      "text/plain": [
       "Ttest_indResult(statistic=-39.492719391538095, pvalue=5.404910513441677e-62)"
      ]
     },
     "execution_count": 17,
     "metadata": {},
     "output_type": "execute_result"
    }
   ],
   "source": [
    "# Run in stats library if independent samples are array-like variables:\n",
    "stats.ttest_ind(ind_1, ind_2)"
   ]
  },
  {
   "cell_type": "markdown",
   "metadata": {
    "id": "QAKi5yAqcsPI"
   },
   "source": [
    "### ANOVA - Analysis of Variance\n",
    "\n",
    "Comparing the variance between groups and within groups (more than two). This is done by comparing the individuals with the group means and the overall mean. This generalizes a two-sample t-test beyond just two!\n",
    "\n",
    "Only going to showcase one-way tests."
   ]
  },
  {
   "cell_type": "code",
   "execution_count": null,
   "metadata": {
    "id": "BzO41fDmcxrJ"
   },
   "outputs": [],
   "source": [
    "# Grabbing three example samples from the iris dataset\n",
    "anova_1 = df[df['target']==0]['petal width (cm)']\n",
    "anova_2 = df[df['target']==1]['petal width (cm)']\n",
    "anova_3 = df[df['target']==2]['petal width (cm)']\n",
    "# Note that these are all pandas series objects"
   ]
  },
  {
   "cell_type": "code",
   "execution_count": null,
   "metadata": {
    "colab": {
     "base_uri": "https://localhost:8080/"
    },
    "id": "Z_9rngZ9crqA",
    "outputId": "7911d2f2-245f-436f-9e63-5ccaf02aab4f"
   },
   "outputs": [
    {
     "data": {
      "text/plain": [
       "F_onewayResult(statistic=960.007146801809, pvalue=4.169445839443116e-85)"
      ]
     },
     "execution_count": 19,
     "metadata": {},
     "output_type": "execute_result"
    }
   ],
   "source": [
    "# Run in stats library if samples are array-like variables:\n",
    "stats.f_oneway(anova_1, anova_2, anova_3)"
   ]
  },
  {
   "cell_type": "markdown",
   "metadata": {
    "id": "D_vyGesizM1o"
   },
   "source": [
    "### Chi-Squared Test\n",
    "\n",
    "The $\\chi^2$ test is a good fit when we talk about categorical variables vs other categorical variables."
   ]
  },
  {
   "cell_type": "code",
   "execution_count": null,
   "metadata": {
    "colab": {
     "base_uri": "https://localhost:8080/"
    },
    "id": "v7YR3oYy0X3R",
    "outputId": "9eb5e570-c198-4454-a235-a3a3c3a2698e"
   },
   "outputs": [
    {
     "data": {
      "text/plain": [
       "2    0.333333\n",
       "1    0.333333\n",
       "0    0.333333\n",
       "Name: target, dtype: float64"
      ]
     },
     "execution_count": 20,
     "metadata": {},
     "output_type": "execute_result"
    }
   ],
   "source": [
    "# We'll use the iris dataset once again - the target is a category\n",
    "# From our data, we'd expect proportions across the groups to all be 1/3\n",
    "df['target'].value_counts(normalize=True)"
   ]
  },
  {
   "cell_type": "code",
   "execution_count": null,
   "metadata": {
    "colab": {
     "base_uri": "https://localhost:8080/"
    },
    "id": "EbioUpNa0rS2",
    "outputId": "95e8e80b-e969-42c2-b22a-b8f7b01c178e"
   },
   "outputs": [
    {
     "data": {
      "text/plain": [
       "1    0.40\n",
       "2    0.32\n",
       "0    0.28\n",
       "Name: target, dtype: float64"
      ]
     },
     "execution_count": 21,
     "metadata": {},
     "output_type": "execute_result"
    }
   ],
   "source": [
    "# Now let's take a sample\n",
    "sample = df['target'].sample(n=50)\n",
    "# These are our observed proportions\n",
    "sample.value_counts(normalize=True)"
   ]
  },
  {
   "cell_type": "code",
   "execution_count": null,
   "metadata": {
    "colab": {
     "base_uri": "https://localhost:8080/"
    },
    "id": "1zogxacozPUY",
    "outputId": "615ba28d-8785-46f2-9ab6-c658962ac997"
   },
   "outputs": [
    {
     "data": {
      "text/plain": [
       "Power_divergenceResult(statistic=0.022400000000000003, pvalue=0.9888624864995005)"
      ]
     },
     "execution_count": 22,
     "metadata": {},
     "output_type": "execute_result"
    }
   ],
   "source": [
    "# Run in stats library if our observed values are array-like variables:\n",
    "# Pass our observed values as f_obs and our expected values as f_exp\n",
    "# Note that these are pandas series objects (array-like) from .value_counts\n",
    "stats.chisquare(f_obs=sample.value_counts(normalize=True), \n",
    "                f_exp=df['target'].value_counts(normalize=True))"
   ]
  },
  {
   "cell_type": "markdown",
   "metadata": {
    "id": "5RrXTLR3XVdt"
   },
   "source": [
    "## Evaluating the Results of a Hypothesis Test"
   ]
  },
  {
   "cell_type": "markdown",
   "metadata": {
    "id": "QJ3-C2Qmav7D"
   },
   "source": [
    "**FIRST OPTION:**\n",
    "\n",
    "Translate the test statistic into a p-value you can compare to the significance level (alpha, $\\alpha$).\n",
    "\n",
    "**SECOND OPTION:**\n",
    "\n",
    "Translate the significance level (alpha $\\alpha$) into a significance threshold in the same units as a test statistic.\n",
    "\n",
    "**We do not accept the alternative hypothesis, we only reject or fail to reject the null hypothesis.**"
   ]
  },
  {
   "cell_type": "markdown",
   "metadata": {
    "id": "dDsNgwrcFXed"
   },
   "source": [
    "### Right-Tail, Left-Tail or Two-Tailed Tests\n",
    "\n",
    "The direction you explore impacts how you evaluate your hypothesis tests!\n",
    "\n",
    "<img src=\"https://camo.githubusercontent.com/763de0ecd16cb38f6cc7477ef728fefec7b4b3a7/68747470733a2f2f6769746875622e636f6d2f6c6561726e2d636f2d73747564656e74732f6473632d6879706f7468657369735f74657374696e672d73656174746c652d3130323831392f7261772f363333623438643130633939633464373562613764326365616463663637623566343963396338642f696d616765732f6879706f7468657369735f746573742e706e67\" width=500>"
   ]
  },
  {
   "cell_type": "code",
   "execution_count": null,
   "metadata": {
    "id": "W97zGCGTwYqb"
   },
   "outputs": [],
   "source": [
    "# Set some parameters for all three threshold types\n",
    "# Set our significance level\n",
    "alpha = .05\n",
    "# For the t-distributions, we'll need our degrees of freedom - let's use n=30\n",
    "n=30\n",
    "dof = n-1"
   ]
  },
  {
   "cell_type": "markdown",
   "metadata": {
    "id": "0srl7qcOIMqX"
   },
   "source": [
    "#### Left-Side One-Tail Test"
   ]
  },
  {
   "cell_type": "code",
   "execution_count": null,
   "metadata": {
    "id": "kMVvQ-LeI8-l"
   },
   "outputs": [],
   "source": [
    "# Example test statistic for a left-side one tail test\n",
    "statistic_left = -1.3608276348795385"
   ]
  },
  {
   "cell_type": "markdown",
   "metadata": {
    "id": "B5ktgcWdIODU"
   },
   "source": [
    "**First Option:** compare p-value to alpha\n",
    "\n",
    "Reject the null hypothesis if the p-value is < alpha.\n",
    "\n",
    "Use the CDF to calculate the p-value, since we're on the left side of the distribution."
   ]
  },
  {
   "cell_type": "code",
   "execution_count": null,
   "metadata": {
    "colab": {
     "base_uri": "https://localhost:8080/"
    },
    "id": "4N73espGIrjI",
    "outputId": "9c70a07a-e51a-45bd-b265-9176019a447a"
   },
   "outputs": [
    {
     "name": "stdout",
     "output_type": "stream",
     "text": [
      "Left One-Tail Z-Test's P-Value: 0.0868\n",
      "Is Z-test's P-Value (0.0868) < alpha (0.05)? False\n",
      "***\n",
      "Left One-Tail T-Test's P-Value: 0.0920\n",
      "Is T-test's P-Value (0.0920) < alpha (0.05)? False\n"
     ]
    }
   ],
   "source": [
    "# If the statistic is from a z-test, use normal distribution:\n",
    "z_p_value = stats.norm.cdf(statistic_left)\n",
    "print(f\"Left One-Tail Z-Test's P-Value: {z_p_value:.4f}\")\n",
    "print(f\"Is Z-test's P-Value ({z_p_value:.4f}) < alpha ({alpha})? {z_p_value < alpha}\")\n",
    "print(\"***\")\n",
    "# If the statistic is from a t-test, use t distribution:\n",
    "t_p_value = stats.t.cdf(statistic_left, df=dof)\n",
    "print(f\"Left One-Tail T-Test's P-Value: {t_p_value:.4f}\")\n",
    "print(f\"Is T-test's P-Value ({t_p_value:.4f}) < alpha ({alpha})? {t_p_value < alpha}\")"
   ]
  },
  {
   "cell_type": "markdown",
   "metadata": {
    "id": "uTFQimfYvcNt"
   },
   "source": [
    "**Second Option:** compare test-statistic to significance threshold.\n",
    "\n",
    "Reject the null hypothesis if the test statistic < threshold (test statistic is a larger negative value than threshold).\n",
    "\n",
    "Use `alpha` because you're finding the threshold on the left side."
   ]
  },
  {
   "cell_type": "code",
   "execution_count": null,
   "metadata": {
    "colab": {
     "base_uri": "https://localhost:8080/"
    },
    "id": "Y-aLYVH3vXoo",
    "outputId": "223c7349-e08f-4f94-a576-f707974e7d77"
   },
   "outputs": [
    {
     "name": "stdout",
     "output_type": "stream",
     "text": [
      "Left One-Tail Z-Test Threshold: -1.6449 (at alpha = 0.05)\n",
      "Is Z-test Statistic (-1.3608) < Significance Threshold (-1.6449)? False\n",
      "***\n",
      "Left One-Tail T-Test Threshold: -1.6991 (at alpha = 0.05 and DoF = 29)\n",
      "Is T-test Statistic (-1.3608) < Significance Threshold (-1.6991)? False\n"
     ]
    }
   ],
   "source": [
    "# If the statistic is from a z-test, use normal distribution:\n",
    "z_threshold = stats.norm.ppf(alpha)\n",
    "print(f\"Left One-Tail Z-Test Threshold: {z_threshold:.4f} (at alpha = {alpha})\")\n",
    "print(f\"Is Z-test Statistic ({statistic_left:.4f}) < Significance Threshold ({z_threshold:.4f})? {statistic_left < z_threshold}\")\n",
    "print(\"***\")\n",
    "# If the statistic is from a t-test, use t distribution:\n",
    "t_threshold = stats.t.ppf(alpha, dof)\n",
    "print(f\"Left One-Tail T-Test Threshold: {t_threshold:.4f} (at alpha = {alpha} and DoF = {dof})\")\n",
    "print(f\"Is T-test Statistic ({statistic_left:.4f}) < Significance Threshold ({t_threshold:.4f})? {statistic_left < t_threshold}\")"
   ]
  },
  {
   "cell_type": "markdown",
   "metadata": {
    "id": "yg72iuF9u_zS"
   },
   "source": [
    "#### Right-Side One-Tail Test\n"
   ]
  },
  {
   "cell_type": "code",
   "execution_count": null,
   "metadata": {
    "id": "lnjCK3zmNE3h"
   },
   "outputs": [],
   "source": [
    "# Example test statistic for a right-side one tail test\n",
    "statistic_right = 1.9051586888313563"
   ]
  },
  {
   "cell_type": "markdown",
   "metadata": {
    "id": "BBtjCHAiOWvL"
   },
   "source": [
    "**First Option:** compare p-value to alpha\n",
    "\n",
    "Reject the null hypothesis if the p-value is < alpha.\n",
    "\n",
    "Use the 1-CDF (aka the Survival Function) to calculate the p-value, since we're on the right side of the distribution."
   ]
  },
  {
   "cell_type": "code",
   "execution_count": null,
   "metadata": {
    "colab": {
     "base_uri": "https://localhost:8080/"
    },
    "id": "22y7aEI4N6CU",
    "outputId": "2b31c8a6-58d2-4e93-dedb-c94f506508b0"
   },
   "outputs": [
    {
     "name": "stdout",
     "output_type": "stream",
     "text": [
      "Left One-Tail Z-Test's P-Value: 0.0284\n",
      "Is Z-test's P-Value (0.0284) < alpha (0.05)? True\n",
      "***\n",
      "Left One-Tail T-Test's P-Value: 0.0334\n",
      "Is T-test's P-Value (0.0334) < alpha (0.05)? True\n"
     ]
    }
   ],
   "source": [
    "# If the statistic is from a z-test, use normal distribution:\n",
    "z_p_value = 1 - stats.norm.cdf(statistic_right) # can also use .sf\n",
    "print(f\"Left One-Tail Z-Test's P-Value: {z_p_value:.4f}\")\n",
    "print(f\"Is Z-test's P-Value ({z_p_value:.4f}) < alpha ({alpha})? {z_p_value < alpha}\")\n",
    "print(\"***\")\n",
    "# If the statistic is from a t-test, use t distribution:\n",
    "t_p_value = 1 - stats.t.cdf(statistic_right, df=dof) # can also use .sf\n",
    "print(f\"Left One-Tail T-Test's P-Value: {t_p_value:.4f}\")\n",
    "print(f\"Is T-test's P-Value ({t_p_value:.4f}) < alpha ({alpha})? {t_p_value < alpha}\")"
   ]
  },
  {
   "cell_type": "markdown",
   "metadata": {
    "id": "oD-L_HO0OnIP"
   },
   "source": [
    "**Second Option:** compare test-statistic to significance threshold.\n",
    "\n",
    "Reject the null hypothesis if the test statistic > threshold (test statistic is a larger positive value than threshold)\n",
    "\n",
    "Use `1-alpha` because you're finding the threshold on the right side."
   ]
  },
  {
   "cell_type": "code",
   "execution_count": null,
   "metadata": {
    "colab": {
     "base_uri": "https://localhost:8080/"
    },
    "id": "IeFi0e9dMxFx",
    "outputId": "bf3dfd45-ed9f-48a5-a90b-df22a2fcfaa1"
   },
   "outputs": [
    {
     "name": "stdout",
     "output_type": "stream",
     "text": [
      "Right One-Tail Z-Test Threshold: 1.6449 (at alpha = 0.05)\n",
      "Is Z-test Statistic (1.9052) > Significance Threshold (1.6449)? True\n",
      "***\n",
      "Left One-Tail T-Test Threshold: 1.6991 (at alpha = 0.05 and DoF = 29)\n",
      "Is T-test Statistic (1.9052) > Significance Threshold (1.6991)? True\n"
     ]
    }
   ],
   "source": [
    "# If the statistic is from a z-test, use normal distribution:\n",
    "z_threshold = stats.norm.ppf(1-alpha)\n",
    "print(f\"Right One-Tail Z-Test Threshold: {z_threshold:.4f} (at alpha = {alpha})\")\n",
    "print(f\"Is Z-test Statistic ({statistic_right:.4f}) > Significance Threshold ({z_threshold:.4f})? {statistic_right > z_threshold}\")\n",
    "print(\"***\")\n",
    "# If the statistic is from a t-test, use t distribution:\n",
    "t_threshold = stats.t.ppf(1-alpha, dof)\n",
    "print(f\"Left One-Tail T-Test Threshold: {t_threshold:.4f} (at alpha = {alpha} and DoF = {dof})\")\n",
    "print(f\"Is T-test Statistic ({statistic_right:.4f}) > Significance Threshold ({t_threshold:.4f})? {statistic_right > t_threshold}\")"
   ]
  },
  {
   "cell_type": "markdown",
   "metadata": {
    "id": "PRGbvII0wEXS"
   },
   "source": [
    "#### Two-Tailed Test"
   ]
  },
  {
   "cell_type": "code",
   "execution_count": null,
   "metadata": {
    "id": "-4dIDJGCRdtH"
   },
   "outputs": [],
   "source": [
    "# Example test statistic for a two tailed test\n",
    "test_statistic = -2.177324215807271"
   ]
  },
  {
   "cell_type": "markdown",
   "metadata": {
    "id": "m12oGI4LRdtQ"
   },
   "source": [
    "**First Option:** compare p-value to alpha\n",
    "\n",
    "**In this case, I do not recommend that you compare the p-value to alpha unless the p-value is given directly by the test run in the stats library.** It will be easier to use the second option, comparing the test statistic to the threshold."
   ]
  },
  {
   "cell_type": "markdown",
   "metadata": {
    "id": "SssAYIhzRdtQ"
   },
   "source": [
    "**Second Option:** compare test-statistic to significance threshold.\n",
    "\n",
    "Reject the null hypothesis if the test statistic < threshold (test statistic is a larger negative value than left threshold) OR if the test statistic > threshold (test statistic is a larger positive value than threshold) on whichever side the test statistic lands.\n",
    "\n",
    "Use both `alpha/2` and `1-alpha/2` because you're finding the threshold on both sides."
   ]
  },
  {
   "cell_type": "code",
   "execution_count": null,
   "metadata": {
    "colab": {
     "base_uri": "https://localhost:8080/"
    },
    "id": "dHrJdghQRdtQ",
    "outputId": "3397cbf6-d3f6-4d67-ca54-31048ec32749"
   },
   "outputs": [
    {
     "name": "stdout",
     "output_type": "stream",
     "text": [
      "Two-Tailed Z-Test Thresholds: -1.9600, 1.9600 (at alpha = 0.05)\n",
      "Is Z-test Statistic (-2.1773) > Significance Threshold (-1.9600, 1.9600)? True\n",
      "***\n",
      "Two-Tailed T-Test Thresholds: -2.0452, 2.0452 (at alpha = 0.05 and DoF = 29)\n",
      "Is T-test Statistic (-2.1773) More Extreme than Significance Thresholds (-2.0452, 2.0452)? True\n"
     ]
    }
   ],
   "source": [
    "# If the statistic is from a z-test, use normal distribution:\n",
    "z_threshold_left = stats.norm.ppf(alpha/2)\n",
    "z_threshold_right = stats.norm.ppf(1-alpha/2)\n",
    "print(f\"Two-Tailed Z-Test Thresholds: {z_threshold_left:.4f}, {z_threshold_right:.4f} (at alpha = {alpha})\")\n",
    "print(f\"Is Z-test Statistic ({test_statistic:.4f}) > Significance Threshold ({z_threshold_left:.4f}, {z_threshold_right:.4f})? {statistic_right > z_threshold}\")\n",
    "print(\"***\")\n",
    "# If the statistic is from a t-test, use t distribution:\n",
    "t_threshold_left = stats.t.ppf(alpha/2, dof)\n",
    "t_threshold_right = stats.t.ppf(1-alpha/2, dof)\n",
    "print(f\"Two-Tailed T-Test Thresholds: {t_threshold_left:.4f}, {t_threshold_right:.4f} (at alpha = {alpha} and DoF = {dof})\")\n",
    "print(f\"Is T-test Statistic ({test_statistic:.4f}) More Extreme than Significance Thresholds ({t_threshold_left:.4f}, {t_threshold_right:.4f})? {np.abs(test_statistic) > t_threshold_right}\")"
   ]
  },
  {
   "cell_type": "markdown",
   "metadata": {
    "id": "oihrpqqXc713"
   },
   "source": [
    "**Bonus!** Visualize your thresholds and test statistic to evaluate\n",
    "\n",
    "Will do one example for the standard normal distribution, aka visualizing the results of a z-test.\n",
    "\n",
    "(If you want to visualize the results of a t-test, you'd want to change the type of distribution in all of these stats functions to be `t` instead of `norm`)"
   ]
  },
  {
   "cell_type": "code",
   "execution_count": null,
   "metadata": {
    "colab": {
     "base_uri": "https://localhost:8080/",
     "height": 388
    },
    "id": "_XAcdqjOR8rv",
    "outputId": "1ff24b68-1ecb-4eac-e4e6-2b8b55e246c3"
   },
   "outputs": [
    {
     "data": {
      "image/png": "[encoded data removed]",
      "text/plain": [
       "<Figure size 576x432 with 1 Axes>"
      ]
     },
     "metadata": {
      "needs_background": "light"
     },
     "output_type": "display_data"
    }
   ],
   "source": [
    "plt.figure(figsize=(8,6))\n",
    "\n",
    "# Getting our normal distribution PDF,\n",
    "# as shown in an example in the scipy.stats.norm documentation\n",
    "# Goes from the points at .1% to 99.9% \n",
    "x = np.linspace(stats.norm.ppf(0.001),\n",
    "                stats.norm.ppf(0.999), 100)\n",
    "\n",
    "# This plots the probability density curve, aka our bell curve\n",
    "plt.plot(x, stats.norm.pdf(x), label=\"Normal Probability Density\")\n",
    "\n",
    "# Plotting our thresholds in red\n",
    "plt.vlines(z_threshold_left, ymin=0, ymax=max(stats.norm.pdf(x)), color='red')\n",
    "plt.vlines(z_threshold_right, ymin=0, ymax=max(stats.norm.pdf(x)), \n",
    "           color='red', label=\"Thresholds\")\n",
    "\n",
    "# Plotting our test statistic in black\n",
    "plt.vlines(test_statistic, ymin=0, ymax=max(stats.norm.pdf(x)), \n",
    "           color='black', label=\"Test Statistic\")\n",
    "\n",
    "plt.ylabel('Probability')\n",
    "plt.xlabel('Number of Standard Deviations from the Mean')\n",
    "plt.legend()\n",
    "plt.show()"
   ]
  },
  {
   "cell_type": "markdown",
   "metadata": {
    "id": "0elym6Jackcd"
   },
   "source": [
    "Note how this black line is outside the bounds of our threshold - it is _more extreme_ than our threshold and thus you can reject the null hypothesis"
   ]
  }
 ],
 "metadata": {
  "colab": {
   "collapsed_sections": [],
   "name": "UsingPythonForStats.ipynb",
   "provenance": []
  },
  "kernelspec": {
   "display_name": "Python 3 (ipykernel)",
   "language": "python",
   "name": "python3"
  },
  "language_info": {
   "codemirror_mode": {
    "name": "ipython",
    "version": 3
   },
   "file_extension": ".py",
   "mimetype": "text/x-python",
   "name": "python",
   "nbconvert_exporter": "python",
   "pygments_lexer": "ipython3",
   "version": "3.9.7"
  }
 },
 "nbformat": 4,
 "nbformat_minor": 1
}
