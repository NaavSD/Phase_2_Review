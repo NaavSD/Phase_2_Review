{
 "cells": [
  {
   "cell_type": "markdown",
   "id": "5b3e89cf",
   "metadata": {},
   "source": [
    "# Models"
   ]
  },
  {
   "cell_type": "markdown",
   "id": "7c9f371d",
   "metadata": {},
   "source": [
    "## Linear Regression"
   ]
  },
  {
   "cell_type": "markdown",
   "id": "fe071397",
   "metadata": {},
   "source": [
    "For two variables $X$ and $Y$, each with $n$ values:\n",
    "\n",
    "$\\Large\\sigma_{XY} = \\frac{\\Sigma^n_{i = 1}(x_i - \\mu_x)(y_i - \\mu_y)}{n}$ <br/>"
   ]
  },
  {
   "cell_type": "markdown",
   "id": "0ddf4e6c",
   "metadata": {},
   "source": [
    "`np.cov(X, Y, ddof=0)`"
   ]
  },
  {
   "cell_type": "markdown",
   "id": "fbd7aa47",
   "metadata": {},
   "source": [
    "Pearson Correlation:<br/>$\\Large r_P = \\frac{\\Sigma^n_{i = 1}(x_i - \\mu_x)(y_i - \\mu_y)}{\\sqrt{\\Sigma^n_{i = 1}(x_i - \\mu_x)^2\\Sigma^n_{i = 1}(y_i -\\mu_y)^2}}$\n",
    "\n",
    "Note that we are simply standardizing the covariance by the standard deviations of X and Y (the $n$'s cancel!)."
   ]
  },
  {
   "cell_type": "markdown",
   "id": "b5bbac33",
   "metadata": {},
   "source": [
    "`np.corrcoef(X, Y)`"
   ]
  },
  {
   "cell_type": "markdown",
   "id": "0025f44b",
   "metadata": {},
   "source": [
    "**Where X and Y are lists of X and Y values.**"
   ]
  },
  {
   "cell_type": "markdown",
   "id": "01f83767",
   "metadata": {},
   "source": [
    "Similarly, you can use SciPy:<br>\n",
    "`stats.pearsonr(X, Y)`"
   ]
  },
  {
   "cell_type": "markdown",
   "id": "506d1f0b",
   "metadata": {},
   "source": [
    "### Regression equations"
   ]
  },
  {
   "cell_type": "markdown",
   "id": "b51d1fba",
   "metadata": {},
   "source": [
    "The solution for a simple regression best-fit line is as follows:\n",
    "\n",
    "- slope: <br/>$\\Large m = r_P\\frac{\\sigma_y}{\\sigma_x} = \\frac{cov(X, Y)}{var(X)}$\n",
    "\n",
    "- y-intercept:<br/> $\\Large b = \\mu_y - m\\mu_x$"
   ]
  },
  {
   "cell_type": "markdown",
   "id": "4674b9b6",
   "metadata": {},
   "source": [
    "### Using Stats Model"
   ]
  },
  {
   "cell_type": "markdown",
   "id": "fe012217",
   "metadata": {},
   "source": [
    "`sm.formula.ols(formula=\"y ~ x\", data=test_df).fit().summary()` <br>\n",
    "Where your x:y data is in a dataframe."
   ]
  },
  {
   "cell_type": "markdown",
   "id": "18724b50",
   "metadata": {},
   "source": [
    "### $R^2$"
   ]
  },
  {
   "cell_type": "markdown",
   "id": "eb530afd",
   "metadata": {},
   "source": [
    "$R^2$, the *coefficient of determination*, is a measure of how well the model fits the data."
   ]
  },
  {
   "cell_type": "markdown",
   "id": "64a2d1d6",
   "metadata": {},
   "source": [
    "The actual calculation of $R^2$ is: <br/> $\\Large R^2\\equiv 1-\\frac{\\Sigma_i(y_i - \\hat{y}_i)^2}{\\Sigma_i(y_i - \\bar{y})^2}$."
   ]
  },
  {
   "cell_type": "markdown",
   "id": "b99265ff",
   "metadata": {},
   "source": [
    "Adjusted $R^2$ adds a penalty for the complexity of the model. <br>\n",
    "Adding more predictors increases the penalty dependent on the significance of the added predictors."
   ]
  },
  {
   "cell_type": "markdown",
   "id": "0dd4aadf",
   "metadata": {},
   "source": [
    "### Assumptions"
   ]
  },
  {
   "cell_type": "markdown",
   "id": "cb775673",
   "metadata": {},
   "source": [
    "#### Linearity"
   ]
  },
  {
   "cell_type": "markdown",
   "id": "335b9927",
   "metadata": {},
   "source": [
    "**The relationship between the target and predictor is linear.** Check this by drawing a scatter plot of your predictor and your target, and see if there is evidence that the relationship might not follow a straight line."
   ]
  },
  {
   "cell_type": "markdown",
   "id": "057e4979",
   "metadata": {},
   "source": [
    "#### Independence"
   ]
  },
  {
   "cell_type": "markdown",
   "id": "2f813e32",
   "metadata": {},
   "source": [
    "**The errors are independent**. In other words: Knowing the error for one point doesn't tell you anything about the error for another."
   ]
  },
  {
   "cell_type": "markdown",
   "id": "2233c425",
   "metadata": {},
   "source": [
    "#### Normality"
   ]
  },
  {
   "cell_type": "markdown",
   "id": "4d2e184d",
   "metadata": {},
   "source": [
    "**The errors are normally distributed.** That is, smaller errors are more probable than larger errors, according to the familiar bell curve."
   ]
  },
  {
   "cell_type": "markdown",
   "id": "b044878a",
   "metadata": {},
   "source": [
    "#### Homoskedasticity"
   ]
  },
  {
   "cell_type": "markdown",
   "id": "b4720f74",
   "metadata": {},
   "source": [
    "**The errors are homoskedastic.** That is, the errors have the same variance. "
   ]
  },
  {
   "cell_type": "code",
   "execution_count": null,
   "id": "43c47f8d",
   "metadata": {},
   "outputs": [],
   "source": []
  }
 ],
 "metadata": {
  "kernelspec": {
   "display_name": "Python (learn-env)",
   "language": "python",
   "name": "learn-env"
  },
  "language_info": {
   "codemirror_mode": {
    "name": "ipython",
    "version": 3
   },
   "file_extension": ".py",
   "mimetype": "text/x-python",
   "name": "python",
   "nbconvert_exporter": "python",
   "pygments_lexer": "ipython3",
   "version": "3.9.7"
  }
 },
 "nbformat": 4,
 "nbformat_minor": 5
}
