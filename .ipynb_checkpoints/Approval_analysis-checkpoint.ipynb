{
 "cells": [
  {
   "cell_type": "code",
   "execution_count": 47,
   "id": "2ab52b7b",
   "metadata": {},
   "outputs": [],
   "source": [
    "import pandas as pd\n",
    "import seaborn as sns"
   ]
  },
  {
   "cell_type": "markdown",
   "id": "c9edcfe7",
   "metadata": {},
   "source": [
    "## Populating random sample"
   ]
  },
  {
   "cell_type": "markdown",
   "id": "a56274a4",
   "metadata": {},
   "source": [
    "Taking a random sample of data sources from [Five Thirty Eight](https://projects.fivethirtyeight.com/biden-approval-rating/)"
   ]
  },
  {
   "cell_type": "code",
   "execution_count": 36,
   "id": "6f060fa7",
   "metadata": {},
   "outputs": [
    {
     "name": "stderr",
     "output_type": "stream",
     "text": [
      "C:\\Users\\bjere\\AppData\\Local\\Temp/ipykernel_71452/354246528.py:2: FutureWarning: Passing a negative integer is deprecated in version 1.0 and will not be supported in future version. Instead, use None to not limit the column width.\n",
      "  pd.set_option(\"display.max_colwidth\", -1)\n"
     ]
    }
   ],
   "source": [
    "# Load data set\n",
    "pd.set_option(\"display.max_colwidth\", -1)\n",
    "data = pd.read_csv(\"data/approval_polllist.csv\")"
   ]
  },
  {
   "cell_type": "code",
   "execution_count": 41,
   "id": "dfcafdd3",
   "metadata": {},
   "outputs": [
    {
     "data": {
      "text/html": [
       "<div>\n",
       "<style scoped>\n",
       "    .dataframe tbody tr th:only-of-type {\n",
       "        vertical-align: middle;\n",
       "    }\n",
       "\n",
       "    .dataframe tbody tr th {\n",
       "        vertical-align: top;\n",
       "    }\n",
       "\n",
       "    .dataframe thead th {\n",
       "        text-align: right;\n",
       "    }\n",
       "</style>\n",
       "<table border=\"1\" class=\"dataframe\">\n",
       "  <thead>\n",
       "    <tr style=\"text-align: right;\">\n",
       "      <th></th>\n",
       "      <th>president</th>\n",
       "      <th>subgroup</th>\n",
       "      <th>modeldate</th>\n",
       "      <th>startdate</th>\n",
       "      <th>enddate</th>\n",
       "      <th>pollster</th>\n",
       "      <th>grade</th>\n",
       "      <th>samplesize</th>\n",
       "      <th>population</th>\n",
       "      <th>weight</th>\n",
       "      <th>...</th>\n",
       "      <th>disapprove</th>\n",
       "      <th>adjusted_approve</th>\n",
       "      <th>adjusted_disapprove</th>\n",
       "      <th>multiversions</th>\n",
       "      <th>tracking</th>\n",
       "      <th>url</th>\n",
       "      <th>poll_id</th>\n",
       "      <th>question_id</th>\n",
       "      <th>createddate</th>\n",
       "      <th>timestamp</th>\n",
       "    </tr>\n",
       "  </thead>\n",
       "  <tbody>\n",
       "    <tr>\n",
       "      <th>1913</th>\n",
       "      <td>Joe Biden</td>\n",
       "      <td>Adults</td>\n",
       "      <td>2/2/2022</td>\n",
       "      <td>11/4/2021</td>\n",
       "      <td>11/8/2021</td>\n",
       "      <td>Monmouth University</td>\n",
       "      <td>A</td>\n",
       "      <td>811.0</td>\n",
       "      <td>a</td>\n",
       "      <td>1.525437</td>\n",
       "      <td>...</td>\n",
       "      <td>50.0</td>\n",
       "      <td>42.792711</td>\n",
       "      <td>49.618679</td>\n",
       "      <td>NaN</td>\n",
       "      <td>NaN</td>\n",
       "      <td>https://www.monmouth.edu/polling-institute/documents/monmouthpoll_us_101021.pdf/</td>\n",
       "      <td>77489</td>\n",
       "      <td>149723</td>\n",
       "      <td>11/10/2021</td>\n",
       "      <td>14:50:21  2 Feb 2022</td>\n",
       "    </tr>\n",
       "    <tr>\n",
       "      <th>2720</th>\n",
       "      <td>Joe Biden</td>\n",
       "      <td>Voters</td>\n",
       "      <td>2/2/2022</td>\n",
       "      <td>1/17/2022</td>\n",
       "      <td>1/19/2022</td>\n",
       "      <td>Rasmussen Reports/Pulse Opinion Research</td>\n",
       "      <td>B</td>\n",
       "      <td>1500.0</td>\n",
       "      <td>lv</td>\n",
       "      <td>0.212745</td>\n",
       "      <td>...</td>\n",
       "      <td>58.0</td>\n",
       "      <td>42.350667</td>\n",
       "      <td>52.475654</td>\n",
       "      <td>NaN</td>\n",
       "      <td>T</td>\n",
       "      <td>https://www.rasmussenreports.com/public_content/politics/biden_administration/biden_approval_index_history</td>\n",
       "      <td>78309</td>\n",
       "      <td>151960</td>\n",
       "      <td>1/20/2022</td>\n",
       "      <td>14:50:25  2 Feb 2022</td>\n",
       "    </tr>\n",
       "    <tr>\n",
       "      <th>2505</th>\n",
       "      <td>Joe Biden</td>\n",
       "      <td>Voters</td>\n",
       "      <td>2/2/2022</td>\n",
       "      <td>9/24/2021</td>\n",
       "      <td>9/25/2021</td>\n",
       "      <td>RMG Research</td>\n",
       "      <td>B-</td>\n",
       "      <td>1200.0</td>\n",
       "      <td>rv</td>\n",
       "      <td>0.613148</td>\n",
       "      <td>...</td>\n",
       "      <td>48.0</td>\n",
       "      <td>44.391093</td>\n",
       "      <td>49.185569</td>\n",
       "      <td>NaN</td>\n",
       "      <td>NaN</td>\n",
       "      <td>https://scottrasmussen.com/biden-45-approve-48-disapprove-strong-approval-down-7-over-past-week/</td>\n",
       "      <td>76507</td>\n",
       "      <td>145859</td>\n",
       "      <td>9/29/2021</td>\n",
       "      <td>14:50:25  2 Feb 2022</td>\n",
       "    </tr>\n",
       "    <tr>\n",
       "      <th>84</th>\n",
       "      <td>Joe Biden</td>\n",
       "      <td>All polls</td>\n",
       "      <td>2/2/2022</td>\n",
       "      <td>2/12/2021</td>\n",
       "      <td>2/15/2021</td>\n",
       "      <td>Morning Consult</td>\n",
       "      <td>B</td>\n",
       "      <td>1987.0</td>\n",
       "      <td>rv</td>\n",
       "      <td>0.054684</td>\n",
       "      <td>...</td>\n",
       "      <td>38.0</td>\n",
       "      <td>54.876534</td>\n",
       "      <td>41.354802</td>\n",
       "      <td>NaN</td>\n",
       "      <td>NaN</td>\n",
       "      <td>https://www.politico.com/f/?id=00000177-abaf-d644-a377-efbf5b3e0000</td>\n",
       "      <td>74384</td>\n",
       "      <td>139795</td>\n",
       "      <td>2/17/2021</td>\n",
       "      <td>14:50:16  2 Feb 2022</td>\n",
       "    </tr>\n",
       "    <tr>\n",
       "      <th>391</th>\n",
       "      <td>Joe Biden</td>\n",
       "      <td>All polls</td>\n",
       "      <td>2/2/2022</td>\n",
       "      <td>5/12/2021</td>\n",
       "      <td>5/16/2021</td>\n",
       "      <td>Rasmussen Reports/Pulse Opinion Research</td>\n",
       "      <td>B</td>\n",
       "      <td>1500.0</td>\n",
       "      <td>lv</td>\n",
       "      <td>0.124419</td>\n",
       "      <td>...</td>\n",
       "      <td>48.0</td>\n",
       "      <td>53.257725</td>\n",
       "      <td>41.960488</td>\n",
       "      <td>NaN</td>\n",
       "      <td>T</td>\n",
       "      <td>https://www.rasmussenreports.com/public_content/politics/biden_administration/biden_approval_index_history</td>\n",
       "      <td>74809</td>\n",
       "      <td>142352</td>\n",
       "      <td>5/17/2021</td>\n",
       "      <td>14:50:16  2 Feb 2022</td>\n",
       "    </tr>\n",
       "  </tbody>\n",
       "</table>\n",
       "<p>5 rows × 22 columns</p>\n",
       "</div>"
      ],
      "text/plain": [
       "      president   subgroup modeldate  startdate    enddate  \\\n",
       "1913  Joe Biden  Adults     2/2/2022  11/4/2021  11/8/2021   \n",
       "2720  Joe Biden  Voters     2/2/2022  1/17/2022  1/19/2022   \n",
       "2505  Joe Biden  Voters     2/2/2022  9/24/2021  9/25/2021   \n",
       "84    Joe Biden  All polls  2/2/2022  2/12/2021  2/15/2021   \n",
       "391   Joe Biden  All polls  2/2/2022  5/12/2021  5/16/2021   \n",
       "\n",
       "                                      pollster grade  samplesize population  \\\n",
       "1913  Monmouth University                       A     811.0       a           \n",
       "2720  Rasmussen Reports/Pulse Opinion Research  B     1500.0      lv          \n",
       "2505  RMG Research                              B-    1200.0      rv          \n",
       "84    Morning Consult                           B     1987.0      rv          \n",
       "391   Rasmussen Reports/Pulse Opinion Research  B     1500.0      lv          \n",
       "\n",
       "        weight  ...  disapprove  adjusted_approve  adjusted_disapprove  \\\n",
       "1913  1.525437  ...  50.0        42.792711         49.618679             \n",
       "2720  0.212745  ...  58.0        42.350667         52.475654             \n",
       "2505  0.613148  ...  48.0        44.391093         49.185569             \n",
       "84    0.054684  ...  38.0        54.876534         41.354802             \n",
       "391   0.124419  ...  48.0        53.257725         41.960488             \n",
       "\n",
       "      multiversions  tracking  \\\n",
       "1913  NaN            NaN        \n",
       "2720  NaN            T          \n",
       "2505  NaN            NaN        \n",
       "84    NaN            NaN        \n",
       "391   NaN            T          \n",
       "\n",
       "                                                                                                             url  \\\n",
       "1913  https://www.monmouth.edu/polling-institute/documents/monmouthpoll_us_101021.pdf/                             \n",
       "2720  https://www.rasmussenreports.com/public_content/politics/biden_administration/biden_approval_index_history   \n",
       "2505  https://scottrasmussen.com/biden-45-approve-48-disapprove-strong-approval-down-7-over-past-week/             \n",
       "84    https://www.politico.com/f/?id=00000177-abaf-d644-a377-efbf5b3e0000                                          \n",
       "391   https://www.rasmussenreports.com/public_content/politics/biden_administration/biden_approval_index_history   \n",
       "\n",
       "     poll_id question_id  createddate             timestamp  \n",
       "1913  77489   149723      11/10/2021   14:50:21  2 Feb 2022  \n",
       "2720  78309   151960      1/20/2022    14:50:25  2 Feb 2022  \n",
       "2505  76507   145859      9/29/2021    14:50:25  2 Feb 2022  \n",
       "84    74384   139795      2/17/2021    14:50:16  2 Feb 2022  \n",
       "391   74809   142352      5/17/2021    14:50:16  2 Feb 2022  \n",
       "\n",
       "[5 rows x 22 columns]"
      ]
     },
     "execution_count": 41,
     "metadata": {},
     "output_type": "execute_result"
    }
   ],
   "source": [
    "# Roll sample\n",
    "sample = data.sample(n=5)\n",
    "sample"
   ]
  },
  {
   "cell_type": "code",
   "execution_count": 42,
   "id": "d55f34af",
   "metadata": {},
   "outputs": [
    {
     "name": "stdout",
     "output_type": "stream",
     "text": [
      "1913    https://www.monmouth.edu/polling-institute/documents/monmouthpoll_us_101021.pdf/                          \n",
      "2720    https://www.rasmussenreports.com/public_content/politics/biden_administration/biden_approval_index_history\n",
      "2505    https://scottrasmussen.com/biden-45-approve-48-disapprove-strong-approval-down-7-over-past-week/          \n",
      "84      https://www.politico.com/f/?id=00000177-abaf-d644-a377-efbf5b3e0000                                       \n",
      "391     https://www.rasmussenreports.com/public_content/politics/biden_administration/biden_approval_index_history\n",
      "Name: url, dtype: object\n"
     ]
    }
   ],
   "source": [
    "print(sample['url'])"
   ]
  },
  {
   "cell_type": "markdown",
   "id": "7832cedb",
   "metadata": {},
   "source": [
    "## Processing Data from Samples"
   ]
  },
  {
   "cell_type": "markdown",
   "id": "bffc6592",
   "metadata": {},
   "source": [
    "Four out of Five samples do not share data. Sample will be reshuffled after processing viable sample picks till n reaches 5. Final 5 will be listed below."
   ]
  },
  {
   "cell_type": "code",
   "execution_count": 43,
   "id": "45ccc959",
   "metadata": {
    "scrolled": false
   },
   "outputs": [
    {
     "data": {
      "text/html": [
       "<div>\n",
       "<style scoped>\n",
       "    .dataframe tbody tr th:only-of-type {\n",
       "        vertical-align: middle;\n",
       "    }\n",
       "\n",
       "    .dataframe tbody tr th {\n",
       "        vertical-align: top;\n",
       "    }\n",
       "\n",
       "    .dataframe thead th {\n",
       "        text-align: right;\n",
       "    }\n",
       "</style>\n",
       "<table border=\"1\" class=\"dataframe\">\n",
       "  <thead>\n",
       "    <tr style=\"text-align: right;\">\n",
       "      <th></th>\n",
       "      <th>president</th>\n",
       "      <th>subgroup</th>\n",
       "      <th>modeldate</th>\n",
       "      <th>startdate</th>\n",
       "      <th>enddate</th>\n",
       "      <th>pollster</th>\n",
       "      <th>grade</th>\n",
       "      <th>samplesize</th>\n",
       "      <th>population</th>\n",
       "      <th>weight</th>\n",
       "      <th>...</th>\n",
       "      <th>disapprove</th>\n",
       "      <th>adjusted_approve</th>\n",
       "      <th>adjusted_disapprove</th>\n",
       "      <th>multiversions</th>\n",
       "      <th>tracking</th>\n",
       "      <th>url</th>\n",
       "      <th>poll_id</th>\n",
       "      <th>question_id</th>\n",
       "      <th>createddate</th>\n",
       "      <th>timestamp</th>\n",
       "    </tr>\n",
       "  </thead>\n",
       "  <tbody>\n",
       "    <tr>\n",
       "      <th>1270</th>\n",
       "      <td>Joe Biden</td>\n",
       "      <td>All polls</td>\n",
       "      <td>2/2/2022</td>\n",
       "      <td>1/17/2022</td>\n",
       "      <td>1/20/2022</td>\n",
       "      <td>American Research Group</td>\n",
       "      <td>C+</td>\n",
       "      <td>1100.0</td>\n",
       "      <td>a</td>\n",
       "      <td>1.107823</td>\n",
       "      <td>...</td>\n",
       "      <td>53.0</td>\n",
       "      <td>41.412668</td>\n",
       "      <td>54.571194</td>\n",
       "      <td>NaN</td>\n",
       "      <td>NaN</td>\n",
       "      <td>https://americanresearchgroup.com/economy/</td>\n",
       "      <td>78314</td>\n",
       "      <td>151978</td>\n",
       "      <td>1/21/2022</td>\n",
       "      <td>14:50:16  2 Feb 2022</td>\n",
       "    </tr>\n",
       "    <tr>\n",
       "      <th>2207</th>\n",
       "      <td>Joe Biden</td>\n",
       "      <td>Voters</td>\n",
       "      <td>2/2/2022</td>\n",
       "      <td>4/5/2021</td>\n",
       "      <td>4/7/2021</td>\n",
       "      <td>Rasmussen Reports/Pulse Opinion Research</td>\n",
       "      <td>B</td>\n",
       "      <td>1500.0</td>\n",
       "      <td>lv</td>\n",
       "      <td>0.206240</td>\n",
       "      <td>...</td>\n",
       "      <td>48.0</td>\n",
       "      <td>53.350667</td>\n",
       "      <td>42.475654</td>\n",
       "      <td>NaN</td>\n",
       "      <td>T</td>\n",
       "      <td>https://www.rasmussenreports.com/public_content/politics/biden_administration/biden_approval_index_history</td>\n",
       "      <td>74619</td>\n",
       "      <td>140541</td>\n",
       "      <td>4/8/2021</td>\n",
       "      <td>14:50:25  2 Feb 2022</td>\n",
       "    </tr>\n",
       "  </tbody>\n",
       "</table>\n",
       "<p>2 rows × 22 columns</p>\n",
       "</div>"
      ],
      "text/plain": [
       "      president   subgroup modeldate  startdate    enddate  \\\n",
       "1270  Joe Biden  All polls  2/2/2022  1/17/2022  1/20/2022   \n",
       "2207  Joe Biden  Voters     2/2/2022  4/5/2021   4/7/2021    \n",
       "\n",
       "                                      pollster grade  samplesize population  \\\n",
       "1270  American Research Group                   C+    1100.0      a           \n",
       "2207  Rasmussen Reports/Pulse Opinion Research  B     1500.0      lv          \n",
       "\n",
       "        weight  ...  disapprove  adjusted_approve  adjusted_disapprove  \\\n",
       "1270  1.107823  ...  53.0        41.412668         54.571194             \n",
       "2207  0.206240  ...  48.0        53.350667         42.475654             \n",
       "\n",
       "      multiversions  tracking  \\\n",
       "1270  NaN            NaN        \n",
       "2207  NaN            T          \n",
       "\n",
       "                                                                                                             url  \\\n",
       "1270  https://americanresearchgroup.com/economy/                                                                   \n",
       "2207  https://www.rasmussenreports.com/public_content/politics/biden_administration/biden_approval_index_history   \n",
       "\n",
       "     poll_id question_id  createddate             timestamp  \n",
       "1270  78314   151978      1/21/2022    14:50:16  2 Feb 2022  \n",
       "2207  74619   140541      4/8/2021     14:50:25  2 Feb 2022  \n",
       "\n",
       "[2 rows x 22 columns]"
      ]
     },
     "execution_count": 43,
     "metadata": {},
     "output_type": "execute_result"
    }
   ],
   "source": [
    "data.loc[[1270, 2207, ]]"
   ]
  },
  {
   "cell_type": "code",
   "execution_count": 82,
   "id": "7c49d4f6",
   "metadata": {},
   "outputs": [],
   "source": [
    "# Read in data\n",
    "arg_dat = pd.read_csv('data/approval_arg_biden.csv') # American Research Group\n",
    "rmr_dat = pd.read_csv('data/approval_rmr_biden.csv') # Rasmussen Reports"
   ]
  },
  {
   "cell_type": "code",
   "execution_count": 73,
   "id": "ae2a3c7a",
   "metadata": {
    "scrolled": true
   },
   "outputs": [
    {
     "data": {
      "text/html": [
       "<div>\n",
       "<style scoped>\n",
       "    .dataframe tbody tr th:only-of-type {\n",
       "        vertical-align: middle;\n",
       "    }\n",
       "\n",
       "    .dataframe tbody tr th {\n",
       "        vertical-align: top;\n",
       "    }\n",
       "\n",
       "    .dataframe thead th {\n",
       "        text-align: right;\n",
       "    }\n",
       "</style>\n",
       "<table border=\"1\" class=\"dataframe\">\n",
       "  <thead>\n",
       "    <tr style=\"text-align: right;\">\n",
       "      <th></th>\n",
       "      <th>DATE</th>\n",
       "      <th>APPROVAL INDEX</th>\n",
       "      <th>STRONGLY APPROVE</th>\n",
       "      <th>STRONGLY DISAPPROVE</th>\n",
       "      <th>TOTAL APPROVE</th>\n",
       "      <th>TOTAL DISAPPROVE</th>\n",
       "    </tr>\n",
       "  </thead>\n",
       "  <tbody>\n",
       "    <tr>\n",
       "      <th>0</th>\n",
       "      <td>2-Feb-22</td>\n",
       "      <td>-28</td>\n",
       "      <td>20%</td>\n",
       "      <td>48%</td>\n",
       "      <td>39%</td>\n",
       "      <td>59%</td>\n",
       "    </tr>\n",
       "    <tr>\n",
       "      <th>1</th>\n",
       "      <td>1-Feb-22</td>\n",
       "      <td>-30</td>\n",
       "      <td>19%</td>\n",
       "      <td>49%</td>\n",
       "      <td>39%</td>\n",
       "      <td>59%</td>\n",
       "    </tr>\n",
       "    <tr>\n",
       "      <th>2</th>\n",
       "      <td>31-Jan-22</td>\n",
       "      <td>-27</td>\n",
       "      <td>20%</td>\n",
       "      <td>47%</td>\n",
       "      <td>41%</td>\n",
       "      <td>57%</td>\n",
       "    </tr>\n",
       "    <tr>\n",
       "      <th>3</th>\n",
       "      <td>28-Jan-22</td>\n",
       "      <td>-27</td>\n",
       "      <td>20%</td>\n",
       "      <td>47%</td>\n",
       "      <td>41%</td>\n",
       "      <td>57%</td>\n",
       "    </tr>\n",
       "    <tr>\n",
       "      <th>4</th>\n",
       "      <td>27-Jan-22</td>\n",
       "      <td>-28</td>\n",
       "      <td>20%</td>\n",
       "      <td>48%</td>\n",
       "      <td>42%</td>\n",
       "      <td>57%</td>\n",
       "    </tr>\n",
       "    <tr>\n",
       "      <th>...</th>\n",
       "      <td>...</td>\n",
       "      <td>...</td>\n",
       "      <td>...</td>\n",
       "      <td>...</td>\n",
       "      <td>...</td>\n",
       "      <td>...</td>\n",
       "    </tr>\n",
       "    <tr>\n",
       "      <th>259</th>\n",
       "      <td>28-Jan-21</td>\n",
       "      <td>-5</td>\n",
       "      <td>35%</td>\n",
       "      <td>40%</td>\n",
       "      <td>49%</td>\n",
       "      <td>48%</td>\n",
       "    </tr>\n",
       "    <tr>\n",
       "      <th>260</th>\n",
       "      <td>27-Jan-21</td>\n",
       "      <td>-7</td>\n",
       "      <td>34%</td>\n",
       "      <td>41%</td>\n",
       "      <td>48%</td>\n",
       "      <td>48%</td>\n",
       "    </tr>\n",
       "    <tr>\n",
       "      <th>261</th>\n",
       "      <td>26-Jan-21</td>\n",
       "      <td>-5</td>\n",
       "      <td>35%</td>\n",
       "      <td>40%</td>\n",
       "      <td>48%</td>\n",
       "      <td>47%</td>\n",
       "    </tr>\n",
       "    <tr>\n",
       "      <th>262</th>\n",
       "      <td>25-Jan-21</td>\n",
       "      <td>-4</td>\n",
       "      <td>36%</td>\n",
       "      <td>40%</td>\n",
       "      <td>48%</td>\n",
       "      <td>47%</td>\n",
       "    </tr>\n",
       "    <tr>\n",
       "      <th>263</th>\n",
       "      <td>22-Jan-21</td>\n",
       "      <td>-2</td>\n",
       "      <td>36%</td>\n",
       "      <td>38%</td>\n",
       "      <td>48%</td>\n",
       "      <td>45%</td>\n",
       "    </tr>\n",
       "  </tbody>\n",
       "</table>\n",
       "<p>264 rows × 6 columns</p>\n",
       "</div>"
      ],
      "text/plain": [
       "          DATE  APPROVAL INDEX STRONGLY APPROVE STRONGLY DISAPPROVE  \\\n",
       "0    2-Feb-22  -28              20%              48%                  \n",
       "1    1-Feb-22  -30              19%              49%                  \n",
       "2    31-Jan-22 -27              20%              47%                  \n",
       "3    28-Jan-22 -27              20%              47%                  \n",
       "4    27-Jan-22 -28              20%              48%                  \n",
       "..         ...  ..              ...              ...                  \n",
       "259  28-Jan-21 -5               35%              40%                  \n",
       "260  27-Jan-21 -7               34%              41%                  \n",
       "261  26-Jan-21 -5               35%              40%                  \n",
       "262  25-Jan-21 -4               36%              40%                  \n",
       "263  22-Jan-21 -2               36%              38%                  \n",
       "\n",
       "    TOTAL APPROVE TOTAL DISAPPROVE  \n",
       "0    39%           59%              \n",
       "1    39%           59%              \n",
       "2    41%           57%              \n",
       "3    41%           57%              \n",
       "4    42%           57%              \n",
       "..   ...           ...              \n",
       "259  49%           48%              \n",
       "260  48%           48%              \n",
       "261  48%           47%              \n",
       "262  48%           47%              \n",
       "263  48%           45%              \n",
       "\n",
       "[264 rows x 6 columns]"
      ]
     },
     "execution_count": 73,
     "metadata": {},
     "output_type": "execute_result"
    }
   ],
   "source": [
    "rmr_dat"
   ]
  },
  {
   "cell_type": "code",
   "execution_count": 83,
   "id": "8ad5c29b",
   "metadata": {},
   "outputs": [],
   "source": [
    "# Format dates as dates\n",
    "arg_dat['Date'] = pd.to_datetime(arg_dat['Date'], format='%y-%b')\n",
    "rmr_dat['DATE'] = pd.to_datetime(rmr_dat['DATE'], format='%d-%b-%y')\n",
    "\n",
    "# Format Percentages as floats\n",
    "for column in arg_dat[['Approval','Disapproval','Neutral']]:\n",
    "    arg_dat[column] = arg_dat[column].str.rstrip('%').astype('float') / 100.0\n",
    "    \n",
    "for column in rmr_dat[['STRONGLY APPROVE', 'STRONGLY DISAPPROVE', 'TOTAL APPROVE', 'TOTAL DISAPPROVE']]:\n",
    "    rmr_dat[column] = rmr_dat[column].str.rstrip('%').astype('float') / 100.0\n"
   ]
  },
  {
   "cell_type": "code",
   "execution_count": 84,
   "id": "e5ad2caf",
   "metadata": {
    "scrolled": false
   },
   "outputs": [
    {
     "data": {
      "text/plain": [
       "0      0.39\n",
       "1      0.39\n",
       "2      0.41\n",
       "3      0.41\n",
       "4      0.42\n",
       "       ... \n",
       "259    0.49\n",
       "260    0.48\n",
       "261    0.48\n",
       "262    0.48\n",
       "263    0.48\n",
       "Name: TOTAL APPROVE, Length: 264, dtype: float64"
      ]
     },
     "execution_count": 84,
     "metadata": {},
     "output_type": "execute_result"
    }
   ],
   "source": [
    "rmr_dat['TOTAL APPROVE']"
   ]
  },
  {
   "cell_type": "code",
   "execution_count": 85,
   "id": "b463e52a",
   "metadata": {
    "scrolled": true
   },
   "outputs": [
    {
     "name": "stderr",
     "output_type": "stream",
     "text": [
      "C:\\Users\\bjere\\anaconda\\lib\\site-packages\\seaborn\\_decorators.py:36: FutureWarning: Pass the following variables as keyword args: x, y. From version 0.12, the only valid positional argument will be `data`, and passing other arguments without an explicit keyword will result in an error or misinterpretation.\n",
      "  warnings.warn(\n"
     ]
    },
    {
     "data": {
      "text/plain": [
       "<AxesSubplot:xlabel='Date', ylabel='Approval'>"
      ]
     },
     "execution_count": 85,
     "metadata": {},
     "output_type": "execute_result"
    },
    {
     "data": {
      "image/png": "[encoded data removed]",
      "text/plain": [
       "<Figure size 432x288 with 1 Axes>"
      ]
     },
     "metadata": {
      "needs_background": "light"
     },
     "output_type": "display_data"
    }
   ],
   "source": [
    "sns.lineplot(arg_dat['Date'],arg_dat['Approval'])\n"
   ]
  },
  {
   "cell_type": "code",
   "execution_count": 86,
   "id": "30c10dae",
   "metadata": {},
   "outputs": [
    {
     "name": "stderr",
     "output_type": "stream",
     "text": [
      "C:\\Users\\bjere\\anaconda\\lib\\site-packages\\seaborn\\_decorators.py:36: FutureWarning: Pass the following variables as keyword args: x, y. From version 0.12, the only valid positional argument will be `data`, and passing other arguments without an explicit keyword will result in an error or misinterpretation.\n",
      "  warnings.warn(\n"
     ]
    },
    {
     "data": {
      "text/plain": [
       "<AxesSubplot:xlabel='DATE', ylabel='TOTAL APPROVE'>"
      ]
     },
     "execution_count": 86,
     "metadata": {},
     "output_type": "execute_result"
    },
    {
     "data": {
      "image/png": "[encoded data removed]",
      "text/plain": [
       "<Figure size 432x288 with 1 Axes>"
      ]
     },
     "metadata": {
      "needs_background": "light"
     },
     "output_type": "display_data"
    }
   ],
   "source": [
    "sns.lineplot(rmr_dat['DATE'], rmr_dat['TOTAL APPROVE'])"
   ]
  },
  {
   "cell_type": "code",
   "execution_count": null,
   "id": "68490744",
   "metadata": {},
   "outputs": [],
   "source": []
  }
 ],
 "metadata": {
  "kernelspec": {
   "display_name": "Python (learn-env)",
   "language": "python",
   "name": "learn-env"
  },
  "language_info": {
   "codemirror_mode": {
    "name": "ipython",
    "version": 3
   },
   "file_extension": ".py",
   "mimetype": "text/x-python",
   "name": "python",
   "nbconvert_exporter": "python",
   "pygments_lexer": "ipython3",
   "version": "3.9.7"
  }
 },
 "nbformat": 4,
 "nbformat_minor": 5
}
