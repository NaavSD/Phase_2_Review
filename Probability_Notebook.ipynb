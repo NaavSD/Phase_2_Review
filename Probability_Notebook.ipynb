{
 "cells": [
  {
   "cell_type": "markdown",
   "id": "984009b3",
   "metadata": {},
   "source": [
    "# Probability"
   ]
  },
  {
   "cell_type": "markdown",
   "id": "96c4b1a9",
   "metadata": {},
   "source": [
    "## Union and Intersection (non-conditional)"
   ]
  },
  {
   "cell_type": "markdown",
   "id": "5857af90",
   "metadata": {},
   "source": [
    "$ P(A \\cup B) = P(A) + P(B) $\n",
    "\n",
    "Likewise, this can be extended to any number of unions.<br>\n",
    "$P(A_1 \\cup A_2 \\cup \\dotsc \\cup A_n) = P(A_1) + P(A_2) + \\dotsc + P(A_n)$"
   ]
  },
  {
   "cell_type": "markdown",
   "id": "73256c66",
   "metadata": {},
   "source": [
    "$P(A \\cap B) = P(A) \\cdot P(B)$\n",
    "\n",
    "Likewise, this can be extended to any number of intersections.<br>\n",
    "$P(A_1 \\cap A_2 \\cap \\dotsc \\cap A_n) = P(A_1) \\cdot P(A_2) \\cdot \\dotsc \\cdot P(A_n)$"
   ]
  },
  {
   "cell_type": "markdown",
   "id": "28f74a74",
   "metadata": {},
   "source": [
    "**Inclusion-Exclusion Principle:**<br>\n",
    "In places where you have overlap between sets and probabilities are joint (such as pulling a jack or a spade from a deck of cards), its important to subtract the overlap as not to count it twice.\n",
    "\n",
    "$P(A \\cup B) = P(A) + P(B) - P(A \\cap B)$"
   ]
  },
  {
   "cell_type": "markdown",
   "id": "dead8320",
   "metadata": {},
   "source": [
    "## Conditional Probability"
   ]
  },
  {
   "cell_type": "markdown",
   "id": "be92d56b",
   "metadata": {},
   "source": [
    "If A and B are two events in a sample space S, then the conditional probability of A given B is defined as:\n",
    "\n",
    "$P(A|B) = \\frac{P(A \\cap B)}{P(B)}$ , when $P(B) > 0$"
   ]
  },
  {
   "cell_type": "markdown",
   "id": "b4b696a8",
   "metadata": {},
   "source": [
    "## Independence"
   ]
  },
  {
   "cell_type": "markdown",
   "id": "eb935941",
   "metadata": {},
   "source": [
    "Two events A and B are independent if and only if $P(A \\cap B) = P(A) \\cdot P(B)$\n",
    "\n",
    "This can also be represented by $P(A|B) = P(A)$"
   ]
  },
  {
   "cell_type": "markdown",
   "id": "4af8e56d",
   "metadata": {},
   "source": [
    "The difference between Independence and disjoint are that:\n",
    "\n",
    "in disjointedness, $A \\cap B = ∅$ and $P(A \\cup B) = P(A) + P(B)$ and A and B cannot occur at the same time.\n",
    "\n",
    "in independence, $P(A|B) = P(A)$, $P(B|A) = P(B)$, and $P(A \\cap B) = P(A) \\cdot P(B)$"
   ]
  },
  {
   "cell_type": "markdown",
   "id": "16484366",
   "metadata": {},
   "source": [
    "## Law of Total Probability"
   ]
  },
  {
   "cell_type": "markdown",
   "id": "8eba42e9",
   "metadata": {},
   "source": [
    "![Law of total probability diagram](https://www.probabilitycourse.com/images/chapter1/LOT_b.png)"
   ]
  },
  {
   "cell_type": "markdown",
   "id": "9c34e7cc",
   "metadata": {},
   "source": [
    "Given a set $B_1$, $B_2$, $B_3$, $\\dotsc$ as a partition of a sample space $S$, for any event $A$:\n",
    "\n",
    "$P(A) = \\sum_i{P(A \\cap B_i)} = \\sum_i{P(A|B_i) \\cdot P(B_i)}$\n",
    "\n",
    "In the figure above, we can see that the area split by the two blue lines is $B_1$, $B_2$, $B_3$. The area shared by the green circle $A$ and $B_1$ is $A_1$ and so on. We can calculate these probabilities as:\n",
    "$$ A_1 = A \\cap B_1$$,\n",
    "$$A_2 = A \\cap B_2$$,\n",
    "$$A_3 = A \\cap B_3$$\n",
    "\n",
    "Thus $P(A) = P(A_1)+P(A_2)+P(A_3)$"
   ]
  },
  {
   "cell_type": "markdown",
   "id": "c4c0037d",
   "metadata": {},
   "source": [
    "## Baye's Theroem"
   ]
  },
  {
   "cell_type": "markdown",
   "id": "4ec466c1",
   "metadata": {},
   "source": [
    "$ P (A|B) = P(A) \\frac{P(B|A)}{P(B)} $ or functionally $ P(H|E) = \\frac{P(H) \\cdot P(E|H)}{P(H) \\cdot P(E|H) + P(¬H) \\cdot P(E|¬H)} $\n",
    "\n",
    "Where $P(H)$ is your \"Prior\" or assumption and $P(¬H)$ is $1 - P(H)$.\n",
    "$P(E|H)$ is your \"Likelihood\"\n",
    "\n",
    "Or, $ Posterior = \\frac{Likelihood \\cdot Prior}{Evidence} $"
   ]
  },
  {
   "cell_type": "markdown",
   "id": "51940b39",
   "metadata": {},
   "source": [
    "### Multinomial Bayes"
   ]
  },
  {
   "cell_type": "markdown",
   "id": "d7406a1b",
   "metadata": {},
   "source": [
    "$ \\large P(A|B_1 ,B_2, \\dotsc , B_n) = P(A) \\frac{P(B_1 |A) \\cdot P(B_2 |A) \\cdot  \\dotsc \\cdot P(B_n |A)}{P(B_1 ,B_2, \\dotsc , B_n)} $"
   ]
  }
 ],
 "metadata": {
  "kernelspec": {
   "display_name": "Python (learn-env)",
   "language": "python",
   "name": "learn-env"
  },
  "language_info": {
   "codemirror_mode": {
    "name": "ipython",
    "version": 3
   },
   "file_extension": ".py",
   "mimetype": "text/x-python",
   "name": "python",
   "nbconvert_exporter": "python",
   "pygments_lexer": "ipython3",
   "version": "3.9.7"
  }
 },
 "nbformat": 4,
 "nbformat_minor": 5
}
